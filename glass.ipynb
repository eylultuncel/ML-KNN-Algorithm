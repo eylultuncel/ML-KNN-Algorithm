{
 "cells": [
  {
   "cell_type": "markdown",
   "id": "4d7c6faf-0098-4d11-a19d-59149abc4ad3",
   "metadata": {
    "tags": []
   },
   "source": [
    "# BBM409 Glass Classification"
   ]
  },
  {
   "cell_type": "markdown",
   "id": "984ebb7d-4669-474b-8364-e67244cf74f5",
   "metadata": {},
   "source": [
    "Here we can write"
   ]
  },
  {
   "cell_type": "markdown",
   "id": "b60df1a0-650d-4d2a-8563-909e9f9160c7",
   "metadata": {},
   "source": [
    "## Introduction"
   ]
  },
  {
   "cell_type": "code",
   "execution_count": 19,
   "id": "5bca0d66-b765-4013-8702-c1b81c82bc8a",
   "metadata": {},
   "outputs": [],
   "source": [
    "import math\n",
    "import pandas as pd\n",
    "import numpy as np\n",
    "from matplotlib import pyplot as plt\n",
    "\n",
    "np.set_printoptions(suppress=True)"
   ]
  },
  {
   "cell_type": "code",
   "execution_count": 20,
   "id": "5c78ad9a-5daf-44a3-939f-f4334a9a1964",
   "metadata": {},
   "outputs": [],
   "source": [
    "def k_fold(x, is_weighted):\n",
    "    # start and end points of each fold (for 214 rows of data 43+43+43+43+42)\n",
    "    arr = [0, 43, 86, 129, 172, 215]\n",
    "    for i in range(5):\n",
    "        # 1/5 part of the data set as test data\n",
    "        x_test = x[arr[i]:arr[i + 1]]\n",
    "\n",
    "        # rest of the data set as train data\n",
    "        a = x[0:arr[i]]\n",
    "        b = x[arr[i + 1]:]\n",
    "        x_train = np.concatenate((a, b), axis=0)\n",
    "\n",
    "        print(\"--------------------------FOLD\", i, \"--------------------------------------------\")\n",
    "\n",
    "        # for every fold use knn classification\n",
    "        knn_true_prediction_count, knn_false_prediction_count = knn_classification(x_train, x_test, is_weighted)\n",
    "\n",
    "        print(knn_true_prediction_count)\n",
    "        print(knn_false_prediction_count)\n",
    "        print(\".................................\")\n",
    "\n",
    "        list_accuracy = []\n",
    "\n",
    "        for e in range(0, 9, 2):\n",
    "            accuracy = \\\n",
    "                (100 * knn_true_prediction_count[e]) / (knn_true_prediction_count[e] + knn_false_prediction_count[e])\n",
    "            print(\"Accuracy for (KNN) k=\", (e + 1), \" : \", accuracy)\n",
    "            list_accuracy.append(accuracy)\n",
    "\n",
    "        plt.plot([1, 3, 5, 7, 9], list_accuracy)\n",
    "        plt.axis([0, 9, 0, 100])\n",
    "    return"
   ]
  },
  {
   "cell_type": "code",
   "execution_count": 21,
   "id": "eeb24e26-f69f-4231-bed7-c1bae0accc7c",
   "metadata": {},
   "outputs": [],
   "source": [
    "def normalize(x):\n",
    "    for i in range(0, x.shape[1] - 2):\n",
    "        col = []\n",
    "        for k in range(x.shape[0]):\n",
    "            col.append(x[k, i])\n",
    "        col.sort()\n",
    "        min_of_col = col[0]\n",
    "        max_of_col = col[x.shape[0] - 1]\n",
    "\n",
    "        for j in range(x.shape[0]):\n",
    "            x[j, i] = (x[j, i] - min_of_col) / (max_of_col - min_of_col)\n",
    "    return x\n"
   ]
  },
  {
   "cell_type": "code",
   "execution_count": 22,
   "id": "d7b1cc04-98cf-479b-b056-04cff94fe3b4",
   "metadata": {},
   "outputs": [],
   "source": [
    "def calculate_predictions(x_train, sorted_keys, test, true_prediction, false_prediction):\n",
    "    closest_points = []\n",
    "    for i in range(9):\n",
    "        closest_points.append(x_train[sorted_keys[i]][9])\n",
    "        if i == 0 or i == 2 or i == 4 or i == 6 or i == 8:\n",
    "            # get the most frequent output in the closest points array\n",
    "            frequent = max(set(closest_points), key=closest_points.count)\n",
    "            if frequent == test[9]:\n",
    "                true_prediction[i] += 1\n",
    "            else:\n",
    "                false_prediction[i] += 1\n",
    "\n",
    "    return true_prediction, false_prediction"
   ]
  },
  {
   "cell_type": "code",
   "execution_count": 23,
   "id": "41aa4536-390a-4115-99bf-2f81b9850dad",
   "metadata": {},
   "outputs": [],
   "source": [
    "def calculate_weighted_predictions(x_train, sorted_keys, euclidean_distances, test, true_prediction, false_prediction):\n",
    "    # key=index , value=weight\n",
    "    closest_points_and_weights = {1: 0.0, 2: 0.0, 3: 0.0, 4: 0.0, 5: 0.0, 6: 0.0, 7: 0.0}\n",
    "    for i in range(9):\n",
    "        index = sorted_keys[i]\n",
    "        if euclidean_distances.get(index) != 0:\n",
    "            closest_points_and_weights[x_train[sorted_keys[i]][9]] += 1 / euclidean_distances.get(index)\n",
    "\n",
    "        if i == 0 or i == 2 or i == 4 or i == 6 or i == 8:\n",
    "            frequent = max(closest_points_and_weights, key=closest_points_and_weights.get)\n",
    "            if frequent == test[9]:\n",
    "                true_prediction[i] += 1\n",
    "            else:\n",
    "                false_prediction[i] += 1\n",
    "\n",
    "    return true_prediction, false_prediction"
   ]
  },
  {
   "cell_type": "code",
   "execution_count": 24,
   "id": "41d4d80d-87f2-434a-abaa-41a5489f8746",
   "metadata": {},
   "outputs": [],
   "source": [
    "def knn_classification(x_train, x_test, is_weighted):\n",
    "    # array index represent k in kNN (we only use 1-3-5-7-9)\n",
    "    true_prediction = [0, 0, 0, 0, 0, 0, 0, 0, 0]\n",
    "    false_prediction = [0, 0, 0, 0, 0, 0, 0, 0, 0]\n",
    "\n",
    "    for i in range(x_test.shape[0]):\n",
    "        test = x_test[i]\n",
    "        euclidean_distances = {}\n",
    "        for j in range(0, x_train.shape[0]):\n",
    "            ri = x_train[j][0] - test[0]\n",
    "            na = x_train[j][1] - test[1]\n",
    "            mg = x_train[j][2] - test[2]\n",
    "            al = x_train[j][3] - test[3]\n",
    "            si = x_train[j][4] - test[4]\n",
    "            k = x_train[j][5] - test[5]\n",
    "            ca = x_train[j][6] - test[6]\n",
    "            ba = x_train[j][7] - test[7]\n",
    "            fe = x_train[j][8] - test[8]\n",
    "            euc_dist = math.sqrt(\n",
    "                # (ri * ri) + (ca * ca) + (mg * mg) + (na * na))\n",
    "                # (al * al) + (mg * mg) )\n",
    "                (ri * ri) + (ca * ca) + (mg * mg) + (na * na) + (al * al) + (si * si) + (k * k) + (ba * ba) + (fe * fe))\n",
    "\n",
    "            euclidean_distances[j] = euc_dist\n",
    "\n",
    "        # sort by the value of euclidean distance, first element will be the nearest point\n",
    "        sorted_keys = sorted(euclidean_distances, key=euclidean_distances.get)\n",
    "\n",
    "        sorted_keys = sorted_keys[:9]\n",
    "\n",
    "        if is_weighted == False:\n",
    "            # classify predictions as true or false by looking first 1,3,5,7,9 neighbors\n",
    "            true_prediction, false_prediction = calculate_predictions(x_train, sorted_keys, test,\n",
    "                                                                      true_prediction, false_prediction)\n",
    "        else:\n",
    "            true_prediction, false_prediction = calculate_weighted_predictions(x_train, sorted_keys,\n",
    "                                                                               euclidean_distances,\n",
    "                                                                               test, true_prediction, false_prediction)\n",
    "\n",
    "    return true_prediction, false_prediction"
   ]
  },
  {
   "cell_type": "code",
   "execution_count": 25,
   "id": "c683aaef-f513-4e6f-935e-c37b5ca22a58",
   "metadata": {},
   "outputs": [],
   "source": [
    "def knn(x):\n",
    "    k_fold(x, False)\n",
    "    plt.ylabel(\"KNN\")\n",
    "    plt.show()"
   ]
  },
  {
   "cell_type": "code",
   "execution_count": 26,
   "id": "51d617eb-e036-4900-93ed-a9a13f86d298",
   "metadata": {},
   "outputs": [],
   "source": [
    "def knn_with_normalization(x):\n",
    "    x = normalize(x)\n",
    "    k_fold(x, False)\n",
    "    plt.ylabel(\"KNN-NORM\")\n",
    "    plt.show()\n"
   ]
  },
  {
   "cell_type": "code",
   "execution_count": 27,
   "id": "b83f66e7-8e9a-48c4-9dfd-dc34458d6503",
   "metadata": {},
   "outputs": [],
   "source": [
    "def weighted_knn(x):\n",
    "    k_fold(x, True)\n",
    "    plt.ylabel(\"W-KNN\")\n",
    "    plt.show()\n"
   ]
  },
  {
   "cell_type": "code",
   "execution_count": 28,
   "id": "3bd4d3aa-8283-42a4-b3c2-8cf8949b1a86",
   "metadata": {},
   "outputs": [],
   "source": [
    "def weighted_knn_with_normalization(x):\n",
    "    x = normalize(x)\n",
    "    k_fold(x, True)\n",
    "    plt.ylabel(\"W-KNN-NORM\")\n",
    "    plt.show()"
   ]
  },
  {
   "cell_type": "code",
   "execution_count": 39,
   "id": "f02c4468-431a-4cbc-b389-45adc9031459",
   "metadata": {},
   "outputs": [],
   "source": [
    "df = pd.read_csv('~/Desktop/BBM406&409/First Assignment/glass.csv')\n",
    "x = np.array(df.iloc[:, :])\n",
    "\n",
    "np.random.seed(101)\n",
    "np.random.shuffle(x)"
   ]
  },
  {
   "cell_type": "code",
   "execution_count": 38,
   "id": "c7d5e45f-9700-4235-94c3-add0125d49f6",
   "metadata": {},
   "outputs": [
    {
     "name": "stdout",
     "output_type": "stream",
     "text": [
      "KNN\n",
      "\n",
      "--------------------------FOLD 0 --------------------------------------------\n",
      "[31, 0, 27, 0, 24, 0, 26, 0, 25]\n",
      "[12, 0, 16, 0, 19, 0, 17, 0, 18]\n",
      ".................................\n",
      "Accuracy for (KNN) k= 1  :  72.09302325581395\n",
      "Accuracy for (KNN) k= 3  :  62.7906976744186\n",
      "Accuracy for (KNN) k= 5  :  55.81395348837209\n",
      "Accuracy for (KNN) k= 7  :  60.46511627906977\n",
      "Accuracy for (KNN) k= 9  :  58.13953488372093\n",
      "--------------------------FOLD 1 --------------------------------------------\n",
      "[30, 0, 30, 0, 32, 0, 27, 0, 28]\n",
      "[13, 0, 13, 0, 11, 0, 16, 0, 15]\n",
      ".................................\n",
      "Accuracy for (KNN) k= 1  :  69.76744186046511\n",
      "Accuracy for (KNN) k= 3  :  69.76744186046511\n",
      "Accuracy for (KNN) k= 5  :  74.4186046511628\n",
      "Accuracy for (KNN) k= 7  :  62.7906976744186\n",
      "Accuracy for (KNN) k= 9  :  65.11627906976744\n",
      "--------------------------FOLD 2 --------------------------------------------\n",
      "[30, 0, 29, 0, 25, 0, 26, 0, 28]\n",
      "[13, 0, 14, 0, 18, 0, 17, 0, 15]\n",
      ".................................\n",
      "Accuracy for (KNN) k= 1  :  69.76744186046511\n",
      "Accuracy for (KNN) k= 3  :  67.44186046511628\n",
      "Accuracy for (KNN) k= 5  :  58.13953488372093\n",
      "Accuracy for (KNN) k= 7  :  60.46511627906977\n",
      "Accuracy for (KNN) k= 9  :  65.11627906976744\n",
      "--------------------------FOLD 3 --------------------------------------------\n",
      "[30, 0, 28, 0, 29, 0, 30, 0, 29]\n",
      "[13, 0, 15, 0, 14, 0, 13, 0, 14]\n",
      ".................................\n",
      "Accuracy for (KNN) k= 1  :  69.76744186046511\n",
      "Accuracy for (KNN) k= 3  :  65.11627906976744\n",
      "Accuracy for (KNN) k= 5  :  67.44186046511628\n",
      "Accuracy for (KNN) k= 7  :  69.76744186046511\n",
      "Accuracy for (KNN) k= 9  :  67.44186046511628\n",
      "--------------------------FOLD 4 --------------------------------------------\n",
      "[31, 0, 28, 0, 25, 0, 25, 0, 26]\n",
      "[11, 0, 14, 0, 17, 0, 17, 0, 16]\n",
      ".................................\n",
      "Accuracy for (KNN) k= 1  :  73.80952380952381\n",
      "Accuracy for (KNN) k= 3  :  66.66666666666667\n",
      "Accuracy for (KNN) k= 5  :  59.523809523809526\n",
      "Accuracy for (KNN) k= 7  :  59.523809523809526\n",
      "Accuracy for (KNN) k= 9  :  61.904761904761905\n"
     ]
    },
    {
     "data": {
      "image/png": "[encoded data removed]",
      "text/plain": [
       "<Figure size 432x288 with 1 Axes>"
      ]
     },
     "metadata": {
      "needs_background": "light"
     },
     "output_type": "display_data"
    }
   ],
   "source": [
    "print(\"KNN\\n\")\n",
    "knn(x.copy())"
   ]
  },
  {
   "cell_type": "code",
   "execution_count": 36,
   "id": "52363cab-f913-4ea3-94d3-e4bdc90d99a6",
   "metadata": {},
   "outputs": [
    {
     "name": "stdout",
     "output_type": "stream",
     "text": [
      "KNN WITH NORMALIZATION\n",
      "\n",
      "--------------------------FOLD 0 --------------------------------------------\n",
      "[31, 0, 29, 0, 28, 0, 26, 0, 27]\n",
      "[12, 0, 14, 0, 15, 0, 17, 0, 16]\n",
      ".................................\n",
      "Accuracy for (KNN) k= 1  :  72.09302325581395\n",
      "Accuracy for (KNN) k= 3  :  67.44186046511628\n",
      "Accuracy for (KNN) k= 5  :  65.11627906976744\n",
      "Accuracy for (KNN) k= 7  :  60.46511627906977\n",
      "Accuracy for (KNN) k= 9  :  62.7906976744186\n",
      "--------------------------FOLD 1 --------------------------------------------\n",
      "[33, 0, 33, 0, 32, 0, 29, 0, 31]\n",
      "[10, 0, 10, 0, 11, 0, 14, 0, 12]\n",
      ".................................\n",
      "Accuracy for (KNN) k= 1  :  76.74418604651163\n",
      "Accuracy for (KNN) k= 3  :  76.74418604651163\n",
      "Accuracy for (KNN) k= 5  :  74.4186046511628\n",
      "Accuracy for (KNN) k= 7  :  67.44186046511628\n",
      "Accuracy for (KNN) k= 9  :  72.09302325581395\n",
      "--------------------------FOLD 2 --------------------------------------------\n",
      "[32, 0, 30, 0, 27, 0, 28, 0, 27]\n",
      "[11, 0, 13, 0, 16, 0, 15, 0, 16]\n",
      ".................................\n",
      "Accuracy for (KNN) k= 1  :  74.4186046511628\n",
      "Accuracy for (KNN) k= 3  :  69.76744186046511\n",
      "Accuracy for (KNN) k= 5  :  62.7906976744186\n",
      "Accuracy for (KNN) k= 7  :  65.11627906976744\n",
      "Accuracy for (KNN) k= 9  :  62.7906976744186\n",
      "--------------------------FOLD 3 --------------------------------------------\n",
      "[30, 0, 29, 0, 27, 0, 28, 0, 28]\n",
      "[13, 0, 14, 0, 16, 0, 15, 0, 15]\n",
      ".................................\n",
      "Accuracy for (KNN) k= 1  :  69.76744186046511\n",
      "Accuracy for (KNN) k= 3  :  67.44186046511628\n",
      "Accuracy for (KNN) k= 5  :  62.7906976744186\n",
      "Accuracy for (KNN) k= 7  :  65.11627906976744\n",
      "Accuracy for (KNN) k= 9  :  65.11627906976744\n",
      "--------------------------FOLD 4 --------------------------------------------\n",
      "[28, 0, 28, 0, 28, 0, 27, 0, 29]\n",
      "[14, 0, 14, 0, 14, 0, 15, 0, 13]\n",
      ".................................\n",
      "Accuracy for (KNN) k= 1  :  66.66666666666667\n",
      "Accuracy for (KNN) k= 3  :  66.66666666666667\n",
      "Accuracy for (KNN) k= 5  :  66.66666666666667\n",
      "Accuracy for (KNN) k= 7  :  64.28571428571429\n",
      "Accuracy for (KNN) k= 9  :  69.04761904761905\n"
     ]
    },
    {
     "data": {
      "image/png": "[encoded data removed]",
      "text/plain": [
       "<Figure size 432x288 with 1 Axes>"
      ]
     },
     "metadata": {
      "needs_background": "light"
     },
     "output_type": "display_data"
    }
   ],
   "source": [
    "print(\"KNN WITH NORMALIZATION\\n\")\n",
    "knn_with_normalization(x.copy())"
   ]
  },
  {
   "cell_type": "code",
   "execution_count": null,
   "id": "9ed0421f-cb2e-4f07-acbb-5a9a3e1f2e70",
   "metadata": {},
   "outputs": [],
   "source": []
  },
  {
   "cell_type": "code",
   "execution_count": 34,
   "id": "3c878d18-2faf-4d86-ad33-92d558360a4a",
   "metadata": {},
   "outputs": [
    {
     "name": "stdout",
     "output_type": "stream",
     "text": [
      "WEIGHTED KNN\n",
      "--------------------------FOLD 0 --------------------------------------------\n",
      "[31, 0, 27, 0, 28, 0, 28, 0, 28]\n",
      "[12, 0, 16, 0, 15, 0, 15, 0, 15]\n",
      ".................................\n",
      "Accuracy for (KNN) k= 1  :  72.09302325581395\n",
      "Accuracy for (KNN) k= 3  :  62.7906976744186\n",
      "Accuracy for (KNN) k= 5  :  65.11627906976744\n",
      "Accuracy for (KNN) k= 7  :  65.11627906976744\n",
      "Accuracy for (KNN) k= 9  :  65.11627906976744\n",
      "--------------------------FOLD 1 --------------------------------------------\n",
      "[30, 0, 30, 0, 31, 0, 29, 0, 31]\n",
      "[13, 0, 13, 0, 12, 0, 14, 0, 12]\n",
      ".................................\n",
      "Accuracy for (KNN) k= 1  :  69.76744186046511\n",
      "Accuracy for (KNN) k= 3  :  69.76744186046511\n",
      "Accuracy for (KNN) k= 5  :  72.09302325581395\n",
      "Accuracy for (KNN) k= 7  :  67.44186046511628\n",
      "Accuracy for (KNN) k= 9  :  72.09302325581395\n",
      "--------------------------FOLD 2 --------------------------------------------\n",
      "[30, 0, 29, 0, 27, 0, 28, 0, 29]\n",
      "[13, 0, 14, 0, 16, 0, 15, 0, 14]\n",
      ".................................\n",
      "Accuracy for (KNN) k= 1  :  69.76744186046511\n",
      "Accuracy for (KNN) k= 3  :  67.44186046511628\n",
      "Accuracy for (KNN) k= 5  :  62.7906976744186\n",
      "Accuracy for (KNN) k= 7  :  65.11627906976744\n",
      "Accuracy for (KNN) k= 9  :  67.44186046511628\n",
      "--------------------------FOLD 3 --------------------------------------------\n",
      "[30, 0, 29, 0, 28, 0, 27, 0, 28]\n",
      "[13, 0, 14, 0, 15, 0, 16, 0, 15]\n",
      ".................................\n",
      "Accuracy for (KNN) k= 1  :  69.76744186046511\n",
      "Accuracy for (KNN) k= 3  :  67.44186046511628\n",
      "Accuracy for (KNN) k= 5  :  65.11627906976744\n",
      "Accuracy for (KNN) k= 7  :  62.7906976744186\n",
      "Accuracy for (KNN) k= 9  :  65.11627906976744\n",
      "--------------------------FOLD 4 --------------------------------------------\n",
      "[31, 0, 27, 0, 24, 0, 25, 0, 25]\n",
      "[11, 0, 15, 0, 18, 0, 17, 0, 17]\n",
      ".................................\n",
      "Accuracy for (KNN) k= 1  :  73.80952380952381\n",
      "Accuracy for (KNN) k= 3  :  64.28571428571429\n",
      "Accuracy for (KNN) k= 5  :  57.142857142857146\n",
      "Accuracy for (KNN) k= 7  :  59.523809523809526\n",
      "Accuracy for (KNN) k= 9  :  59.523809523809526\n"
     ]
    },
    {
     "data": {
      "image/png": "[encoded data removed]",
      "text/plain": [
       "<Figure size 432x288 with 1 Axes>"
      ]
     },
     "metadata": {
      "needs_background": "light"
     },
     "output_type": "display_data"
    }
   ],
   "source": [
    "print(\"WEIGHTED KNN\\n\")\n",
    "weighted_knn(x.copy())"
   ]
  },
  {
   "cell_type": "code",
   "execution_count": 35,
   "id": "8642a06e-4a1a-447d-9a6e-c306be7441b6",
   "metadata": {},
   "outputs": [
    {
     "name": "stdout",
     "output_type": "stream",
     "text": [
      "WEIGHTED KNN WITH NORMALIZATION\n",
      "--------------------------FOLD 0 --------------------------------------------\n",
      "[31, 0, 30, 0, 30, 0, 28, 0, 27]\n",
      "[12, 0, 13, 0, 13, 0, 15, 0, 16]\n",
      ".................................\n",
      "Accuracy for (KNN) k= 1  :  72.09302325581395\n",
      "Accuracy for (KNN) k= 3  :  69.76744186046511\n",
      "Accuracy for (KNN) k= 5  :  69.76744186046511\n",
      "Accuracy for (KNN) k= 7  :  65.11627906976744\n",
      "Accuracy for (KNN) k= 9  :  62.7906976744186\n",
      "--------------------------FOLD 1 --------------------------------------------\n",
      "[33, 0, 34, 0, 35, 0, 33, 0, 36]\n",
      "[10, 0, 9, 0, 8, 0, 10, 0, 7]\n",
      ".................................\n",
      "Accuracy for (KNN) k= 1  :  76.74418604651163\n",
      "Accuracy for (KNN) k= 3  :  79.06976744186046\n",
      "Accuracy for (KNN) k= 5  :  81.3953488372093\n",
      "Accuracy for (KNN) k= 7  :  76.74418604651163\n",
      "Accuracy for (KNN) k= 9  :  83.72093023255815\n",
      "--------------------------FOLD 2 --------------------------------------------\n",
      "[32, 0, 30, 0, 30, 0, 30, 0, 28]\n",
      "[11, 0, 13, 0, 13, 0, 13, 0, 15]\n",
      ".................................\n",
      "Accuracy for (KNN) k= 1  :  74.4186046511628\n",
      "Accuracy for (KNN) k= 3  :  69.76744186046511\n",
      "Accuracy for (KNN) k= 5  :  69.76744186046511\n",
      "Accuracy for (KNN) k= 7  :  69.76744186046511\n",
      "Accuracy for (KNN) k= 9  :  65.11627906976744\n",
      "--------------------------FOLD 3 --------------------------------------------\n",
      "[30, 0, 29, 0, 28, 0, 29, 0, 32]\n",
      "[13, 0, 14, 0, 15, 0, 14, 0, 11]\n",
      ".................................\n",
      "Accuracy for (KNN) k= 1  :  69.76744186046511\n",
      "Accuracy for (KNN) k= 3  :  67.44186046511628\n",
      "Accuracy for (KNN) k= 5  :  65.11627906976744\n",
      "Accuracy for (KNN) k= 7  :  67.44186046511628\n",
      "Accuracy for (KNN) k= 9  :  74.4186046511628\n",
      "--------------------------FOLD 4 --------------------------------------------\n",
      "[28, 0, 27, 0, 28, 0, 27, 0, 28]\n",
      "[14, 0, 15, 0, 14, 0, 15, 0, 14]\n",
      ".................................\n",
      "Accuracy for (KNN) k= 1  :  66.66666666666667\n",
      "Accuracy for (KNN) k= 3  :  64.28571428571429\n",
      "Accuracy for (KNN) k= 5  :  66.66666666666667\n",
      "Accuracy for (KNN) k= 7  :  64.28571428571429\n",
      "Accuracy for (KNN) k= 9  :  66.66666666666667\n"
     ]
    },
    {
     "data": {
      "image/png": "[encoded data removed]",
      "text/plain": [
       "<Figure size 432x288 with 1 Axes>"
      ]
     },
     "metadata": {
      "needs_background": "light"
     },
     "output_type": "display_data"
    }
   ],
   "source": [
    "print(\"WEIGHTED KNN WITH NORMALIZATION\\n\")\n",
    "weighted_knn_with_normalization(x.copy())"
   ]
  },
  {
   "cell_type": "code",
   "execution_count": null,
   "id": "aec9acac-5a93-42a1-84f3-3e374828597f",
   "metadata": {},
   "outputs": [],
   "source": [
    "\n",
    "\n",
    "\n",
    "\n",
    "\n",
    "\n",
    "\n"
   ]
  },
  {
   "cell_type": "markdown",
   "id": "0d6246d9-de38-4a44-8e99-51599e5b2da3",
   "metadata": {
    "tags": []
   },
   "source": [
    "# BBM409 Glass Classification"
   ]
  },
  {
   "cell_type": "markdown",
   "id": "fcf59394-72a0-48ed-b922-aab7241870a1",
   "metadata": {},
   "source": [
    "Here we can write"
   ]
  },
  {
   "cell_type": "markdown",
   "id": "adf98525-e49c-4c7f-a57c-1e84d166317a",
   "metadata": {},
   "source": [
    "## Introduction"
   ]
  },
  {
   "cell_type": "code",
   "execution_count": 19,
   "id": "107cb0db-74e0-44d1-bedb-4543f9b7d8df",
   "metadata": {},
   "outputs": [],
   "source": [
    "import math\n",
    "import pandas as pd\n",
    "import numpy as np\n",
    "from matplotlib import pyplot as plt\n",
    "\n",
    "np.set_printoptions(suppress=True)"
   ]
  },
  {
   "cell_type": "code",
   "execution_count": 20,
   "id": "0123f3ab-a13a-44a4-a897-387abcc51ecb",
   "metadata": {},
   "outputs": [],
   "source": [
    "def k_fold(x, is_weighted):\n",
    "    # start and end points of each fold (for 214 rows of data 43+43+43+43+42)\n",
    "    arr = [0, 43, 86, 129, 172, 215]\n",
    "    for i in range(5):\n",
    "        # 1/5 part of the data set as test data\n",
    "        x_test = x[arr[i]:arr[i + 1]]\n",
    "\n",
    "        # rest of the data set as train data\n",
    "        a = x[0:arr[i]]\n",
    "        b = x[arr[i + 1]:]\n",
    "        x_train = np.concatenate((a, b), axis=0)\n",
    "\n",
    "        print(\"--------------------------FOLD\", i, \"--------------------------------------------\")\n",
    "\n",
    "        # for every fold use knn classification\n",
    "        knn_true_prediction_count, knn_false_prediction_count = knn_classification(x_train, x_test, is_weighted)\n",
    "\n",
    "        print(knn_true_prediction_count)\n",
    "        print(knn_false_prediction_count)\n",
    "        print(\".................................\")\n",
    "\n",
    "        list_accuracy = []\n",
    "\n",
    "        for e in range(0, 9, 2):\n",
    "            accuracy = \\\n",
    "                (100 * knn_true_prediction_count[e]) / (knn_true_prediction_count[e] + knn_false_prediction_count[e])\n",
    "            print(\"Accuracy for (KNN) k=\", (e + 1), \" : \", accuracy)\n",
    "            list_accuracy.append(accuracy)\n",
    "\n",
    "        plt.plot([1, 3, 5, 7, 9], list_accuracy)\n",
    "        plt.axis([0, 9, 0, 100])\n",
    "    return"
   ]
  },
  {
   "cell_type": "code",
   "execution_count": 21,
   "id": "6ef0ea50-3c62-4d2c-a1d9-cb0ff7f7a837",
   "metadata": {},
   "outputs": [],
   "source": [
    "def normalize(x):\n",
    "    for i in range(0, x.shape[1] - 2):\n",
    "        col = []\n",
    "        for k in range(x.shape[0]):\n",
    "            col.append(x[k, i])\n",
    "        col.sort()\n",
    "        min_of_col = col[0]\n",
    "        max_of_col = col[x.shape[0] - 1]\n",
    "\n",
    "        for j in range(x.shape[0]):\n",
    "            x[j, i] = (x[j, i] - min_of_col) / (max_of_col - min_of_col)\n",
    "    return x\n"
   ]
  },
  {
   "cell_type": "code",
   "execution_count": 22,
   "id": "8efadeca-3a23-4bf5-a6a9-50fcc433e9b8",
   "metadata": {},
   "outputs": [],
   "source": [
    "def calculate_predictions(x_train, sorted_keys, test, true_prediction, false_prediction):\n",
    "    closest_points = []\n",
    "    for i in range(9):\n",
    "        closest_points.append(x_train[sorted_keys[i]][9])\n",
    "        if i == 0 or i == 2 or i == 4 or i == 6 or i == 8:\n",
    "            # get the most frequent output in the closest points array\n",
    "            frequent = max(set(closest_points), key=closest_points.count)\n",
    "            if frequent == test[9]:\n",
    "                true_prediction[i] += 1\n",
    "            else:\n",
    "                false_prediction[i] += 1\n",
    "\n",
    "    return true_prediction, false_prediction"
   ]
  },
  {
   "cell_type": "code",
   "execution_count": 23,
   "id": "e1abcca8-e04b-4aaa-a318-e9872f6839ca",
   "metadata": {},
   "outputs": [],
   "source": [
    "def calculate_weighted_predictions(x_train, sorted_keys, euclidean_distances, test, true_prediction, false_prediction):\n",
    "    # key=index , value=weight\n",
    "    closest_points_and_weights = {1: 0.0, 2: 0.0, 3: 0.0, 4: 0.0, 5: 0.0, 6: 0.0, 7: 0.0}\n",
    "    for i in range(9):\n",
    "        index = sorted_keys[i]\n",
    "        if euclidean_distances.get(index) != 0:\n",
    "            closest_points_and_weights[x_train[sorted_keys[i]][9]] += 1 / euclidean_distances.get(index)\n",
    "\n",
    "        if i == 0 or i == 2 or i == 4 or i == 6 or i == 8:\n",
    "            frequent = max(closest_points_and_weights, key=closest_points_and_weights.get)\n",
    "            if frequent == test[9]:\n",
    "                true_prediction[i] += 1\n",
    "            else:\n",
    "                false_prediction[i] += 1\n",
    "\n",
    "    return true_prediction, false_prediction"
   ]
  },
  {
   "cell_type": "code",
   "execution_count": 24,
   "id": "3676f2e1-1686-4e39-8fbf-8e3eb1425084",
   "metadata": {},
   "outputs": [],
   "source": [
    "def knn_classification(x_train, x_test, is_weighted):\n",
    "    # array index represent k in kNN (we only use 1-3-5-7-9)\n",
    "    true_prediction = [0, 0, 0, 0, 0, 0, 0, 0, 0]\n",
    "    false_prediction = [0, 0, 0, 0, 0, 0, 0, 0, 0]\n",
    "\n",
    "    for i in range(x_test.shape[0]):\n",
    "        test = x_test[i]\n",
    "        euclidean_distances = {}\n",
    "        for j in range(0, x_train.shape[0]):\n",
    "            ri = x_train[j][0] - test[0]\n",
    "            na = x_train[j][1] - test[1]\n",
    "            mg = x_train[j][2] - test[2]\n",
    "            al = x_train[j][3] - test[3]\n",
    "            si = x_train[j][4] - test[4]\n",
    "            k = x_train[j][5] - test[5]\n",
    "            ca = x_train[j][6] - test[6]\n",
    "            ba = x_train[j][7] - test[7]\n",
    "            fe = x_train[j][8] - test[8]\n",
    "            euc_dist = math.sqrt(\n",
    "                # (ri * ri) + (ca * ca) + (mg * mg) + (na * na))\n",
    "                # (al * al) + (mg * mg) )\n",
    "                (ri * ri) + (ca * ca) + (mg * mg) + (na * na) + (al * al) + (si * si) + (k * k) + (ba * ba) + (fe * fe))\n",
    "\n",
    "            euclidean_distances[j] = euc_dist\n",
    "\n",
    "        # sort by the value of euclidean distance, first element will be the nearest point\n",
    "        sorted_keys = sorted(euclidean_distances, key=euclidean_distances.get)\n",
    "\n",
    "        sorted_keys = sorted_keys[:9]\n",
    "\n",
    "        if is_weighted == False:\n",
    "            # classify predictions as true or false by looking first 1,3,5,7,9 neighbors\n",
    "            true_prediction, false_prediction = calculate_predictions(x_train, sorted_keys, test,\n",
    "                                                                      true_prediction, false_prediction)\n",
    "        else:\n",
    "            true_prediction, false_prediction = calculate_weighted_predictions(x_train, sorted_keys,\n",
    "                                                                               euclidean_distances,\n",
    "                                                                               test, true_prediction, false_prediction)\n",
    "\n",
    "    return true_prediction, false_prediction"
   ]
  },
  {
   "cell_type": "code",
   "execution_count": 25,
   "id": "be86ca0a-f939-4a16-b2de-816e23c10787",
   "metadata": {},
   "outputs": [],
   "source": [
    "def knn(x):\n",
    "    k_fold(x, False)\n",
    "    plt.ylabel(\"KNN\")\n",
    "    plt.show()"
   ]
  },
  {
   "cell_type": "code",
   "execution_count": 26,
   "id": "c012f9db-1c93-41ed-abb3-738f30bba88b",
   "metadata": {},
   "outputs": [],
   "source": [
    "def knn_with_normalization(x):\n",
    "    x = normalize(x)\n",
    "    k_fold(x, False)\n",
    "    plt.ylabel(\"KNN-NORM\")\n",
    "    plt.show()\n"
   ]
  },
  {
   "cell_type": "code",
   "execution_count": 27,
   "id": "d85ff2ed-ab9c-48b7-b9bb-3759e3678824",
   "metadata": {},
   "outputs": [],
   "source": [
    "def weighted_knn(x):\n",
    "    k_fold(x, True)\n",
    "    plt.ylabel(\"W-KNN\")\n",
    "    plt.show()\n"
   ]
  },
  {
   "cell_type": "code",
   "execution_count": 28,
   "id": "ffbb0f15-2e55-4ce6-ab77-a2e59cb8f204",
   "metadata": {},
   "outputs": [],
   "source": [
    "def weighted_knn_with_normalization(x):\n",
    "    x = normalize(x)\n",
    "    k_fold(x, True)\n",
    "    plt.ylabel(\"W-KNN-NORM\")\n",
    "    plt.show()"
   ]
  },
  {
   "cell_type": "code",
   "execution_count": 39,
   "id": "b2aad6a9-cdeb-48e9-af37-9c51bf6d3217",
   "metadata": {},
   "outputs": [],
   "source": [
    "df = pd.read_csv('~/Desktop/BBM406&409/First Assignment/glass.csv')\n",
    "x = np.array(df.iloc[:, :])\n",
    "\n",
    "np.random.seed(101)\n",
    "np.random.shuffle(x)"
   ]
  },
  {
   "cell_type": "code",
   "execution_count": 38,
   "id": "8fb1a79b-d4f6-4863-bf6d-0718849b328c",
   "metadata": {},
   "outputs": [
    {
     "name": "stdout",
     "output_type": "stream",
     "text": [
      "KNN\n",
      "\n",
      "--------------------------FOLD 0 --------------------------------------------\n",
      "[31, 0, 27, 0, 24, 0, 26, 0, 25]\n",
      "[12, 0, 16, 0, 19, 0, 17, 0, 18]\n",
      ".................................\n",
      "Accuracy for (KNN) k= 1  :  72.09302325581395\n",
      "Accuracy for (KNN) k= 3  :  62.7906976744186\n",
      "Accuracy for (KNN) k= 5  :  55.81395348837209\n",
      "Accuracy for (KNN) k= 7  :  60.46511627906977\n",
      "Accuracy for (KNN) k= 9  :  58.13953488372093\n",
      "--------------------------FOLD 1 --------------------------------------------\n",
      "[30, 0, 30, 0, 32, 0, 27, 0, 28]\n",
      "[13, 0, 13, 0, 11, 0, 16, 0, 15]\n",
      ".................................\n",
      "Accuracy for (KNN) k= 1  :  69.76744186046511\n",
      "Accuracy for (KNN) k= 3  :  69.76744186046511\n",
      "Accuracy for (KNN) k= 5  :  74.4186046511628\n",
      "Accuracy for (KNN) k= 7  :  62.7906976744186\n",
      "Accuracy for (KNN) k= 9  :  65.11627906976744\n",
      "--------------------------FOLD 2 --------------------------------------------\n",
      "[30, 0, 29, 0, 25, 0, 26, 0, 28]\n",
      "[13, 0, 14, 0, 18, 0, 17, 0, 15]\n",
      ".................................\n",
      "Accuracy for (KNN) k= 1  :  69.76744186046511\n",
      "Accuracy for (KNN) k= 3  :  67.44186046511628\n",
      "Accuracy for (KNN) k= 5  :  58.13953488372093\n",
      "Accuracy for (KNN) k= 7  :  60.46511627906977\n",
      "Accuracy for (KNN) k= 9  :  65.11627906976744\n",
      "--------------------------FOLD 3 --------------------------------------------\n",
      "[30, 0, 28, 0, 29, 0, 30, 0, 29]\n",
      "[13, 0, 15, 0, 14, 0, 13, 0, 14]\n",
      ".................................\n",
      "Accuracy for (KNN) k= 1  :  69.76744186046511\n",
      "Accuracy for (KNN) k= 3  :  65.11627906976744\n",
      "Accuracy for (KNN) k= 5  :  67.44186046511628\n",
      "Accuracy for (KNN) k= 7  :  69.76744186046511\n",
      "Accuracy for (KNN) k= 9  :  67.44186046511628\n",
      "--------------------------FOLD 4 --------------------------------------------\n",
      "[31, 0, 28, 0, 25, 0, 25, 0, 26]\n",
      "[11, 0, 14, 0, 17, 0, 17, 0, 16]\n",
      ".................................\n",
      "Accuracy for (KNN) k= 1  :  73.80952380952381\n",
      "Accuracy for (KNN) k= 3  :  66.66666666666667\n",
      "Accuracy for (KNN) k= 5  :  59.523809523809526\n",
      "Accuracy for (KNN) k= 7  :  59.523809523809526\n",
      "Accuracy for (KNN) k= 9  :  61.904761904761905\n"
     ]
    },
    {
     "data": {
      "image/png": "[encoded data removed]",
      "text/plain": [
       "<Figure size 432x288 with 1 Axes>"
      ]
     },
     "metadata": {
      "needs_background": "light"
     },
     "output_type": "display_data"
    }
   ],
   "source": [
    "print(\"KNN\\n\")\n",
    "knn(x.copy())"
   ]
  },
  {
   "cell_type": "code",
   "execution_count": 36,
   "id": "385bc425-6362-4d6d-9fcc-c8b44291d720",
   "metadata": {},
   "outputs": [
    {
     "name": "stdout",
     "output_type": "stream",
     "text": [
      "KNN WITH NORMALIZATION\n",
      "\n",
      "--------------------------FOLD 0 --------------------------------------------\n",
      "[31, 0, 29, 0, 28, 0, 26, 0, 27]\n",
      "[12, 0, 14, 0, 15, 0, 17, 0, 16]\n",
      ".................................\n",
      "Accuracy for (KNN) k= 1  :  72.09302325581395\n",
      "Accuracy for (KNN) k= 3  :  67.44186046511628\n",
      "Accuracy for (KNN) k= 5  :  65.11627906976744\n",
      "Accuracy for (KNN) k= 7  :  60.46511627906977\n",
      "Accuracy for (KNN) k= 9  :  62.7906976744186\n",
      "--------------------------FOLD 1 --------------------------------------------\n",
      "[33, 0, 33, 0, 32, 0, 29, 0, 31]\n",
      "[10, 0, 10, 0, 11, 0, 14, 0, 12]\n",
      ".................................\n",
      "Accuracy for (KNN) k= 1  :  76.74418604651163\n",
      "Accuracy for (KNN) k= 3  :  76.74418604651163\n",
      "Accuracy for (KNN) k= 5  :  74.4186046511628\n",
      "Accuracy for (KNN) k= 7  :  67.44186046511628\n",
      "Accuracy for (KNN) k= 9  :  72.09302325581395\n",
      "--------------------------FOLD 2 --------------------------------------------\n",
      "[32, 0, 30, 0, 27, 0, 28, 0, 27]\n",
      "[11, 0, 13, 0, 16, 0, 15, 0, 16]\n",
      ".................................\n",
      "Accuracy for (KNN) k= 1  :  74.4186046511628\n",
      "Accuracy for (KNN) k= 3  :  69.76744186046511\n",
      "Accuracy for (KNN) k= 5  :  62.7906976744186\n",
      "Accuracy for (KNN) k= 7  :  65.11627906976744\n",
      "Accuracy for (KNN) k= 9  :  62.7906976744186\n",
      "--------------------------FOLD 3 --------------------------------------------\n",
      "[30, 0, 29, 0, 27, 0, 28, 0, 28]\n",
      "[13, 0, 14, 0, 16, 0, 15, 0, 15]\n",
      ".................................\n",
      "Accuracy for (KNN) k= 1  :  69.76744186046511\n",
      "Accuracy for (KNN) k= 3  :  67.44186046511628\n",
      "Accuracy for (KNN) k= 5  :  62.7906976744186\n",
      "Accuracy for (KNN) k= 7  :  65.11627906976744\n",
      "Accuracy for (KNN) k= 9  :  65.11627906976744\n",
      "--------------------------FOLD 4 --------------------------------------------\n",
      "[28, 0, 28, 0, 28, 0, 27, 0, 29]\n",
      "[14, 0, 14, 0, 14, 0, 15, 0, 13]\n",
      ".................................\n",
      "Accuracy for (KNN) k= 1  :  66.66666666666667\n",
      "Accuracy for (KNN) k= 3  :  66.66666666666667\n",
      "Accuracy for (KNN) k= 5  :  66.66666666666667\n",
      "Accuracy for (KNN) k= 7  :  64.28571428571429\n",
      "Accuracy for (KNN) k= 9  :  69.04761904761905\n"
     ]
    },
    {
     "data": {
      "image/png": "[encoded data removed]",
      "text/plain": [
       "<Figure size 432x288 with 1 Axes>"
      ]
     },
     "metadata": {
      "needs_background": "light"
     },
     "output_type": "display_data"
    }
   ],
   "source": [
    "print(\"KNN WITH NORMALIZATION\\n\")\n",
    "knn_with_normalization(x.copy())"
   ]
  },
  {
   "cell_type": "code",
   "execution_count": null,
   "id": "ca1c6a66-4e7a-40f2-b791-1054517a8d09",
   "metadata": {},
   "outputs": [],
   "source": []
  },
  {
   "cell_type": "code",
   "execution_count": 34,
   "id": "e866483d-19a5-418d-977d-621063c2d68a",
   "metadata": {},
   "outputs": [
    {
     "name": "stdout",
     "output_type": "stream",
     "text": [
      "WEIGHTED KNN\n",
      "--------------------------FOLD 0 --------------------------------------------\n",
      "[31, 0, 27, 0, 28, 0, 28, 0, 28]\n",
      "[12, 0, 16, 0, 15, 0, 15, 0, 15]\n",
      ".................................\n",
      "Accuracy for (KNN) k= 1  :  72.09302325581395\n",
      "Accuracy for (KNN) k= 3  :  62.7906976744186\n",
      "Accuracy for (KNN) k= 5  :  65.11627906976744\n",
      "Accuracy for (KNN) k= 7  :  65.11627906976744\n",
      "Accuracy for (KNN) k= 9  :  65.11627906976744\n",
      "--------------------------FOLD 1 --------------------------------------------\n",
      "[30, 0, 30, 0, 31, 0, 29, 0, 31]\n",
      "[13, 0, 13, 0, 12, 0, 14, 0, 12]\n",
      ".................................\n",
      "Accuracy for (KNN) k= 1  :  69.76744186046511\n",
      "Accuracy for (KNN) k= 3  :  69.76744186046511\n",
      "Accuracy for (KNN) k= 5  :  72.09302325581395\n",
      "Accuracy for (KNN) k= 7  :  67.44186046511628\n",
      "Accuracy for (KNN) k= 9  :  72.09302325581395\n",
      "--------------------------FOLD 2 --------------------------------------------\n",
      "[30, 0, 29, 0, 27, 0, 28, 0, 29]\n",
      "[13, 0, 14, 0, 16, 0, 15, 0, 14]\n",
      ".................................\n",
      "Accuracy for (KNN) k= 1  :  69.76744186046511\n",
      "Accuracy for (KNN) k= 3  :  67.44186046511628\n",
      "Accuracy for (KNN) k= 5  :  62.7906976744186\n",
      "Accuracy for (KNN) k= 7  :  65.11627906976744\n",
      "Accuracy for (KNN) k= 9  :  67.44186046511628\n",
      "--------------------------FOLD 3 --------------------------------------------\n",
      "[30, 0, 29, 0, 28, 0, 27, 0, 28]\n",
      "[13, 0, 14, 0, 15, 0, 16, 0, 15]\n",
      ".................................\n",
      "Accuracy for (KNN) k= 1  :  69.76744186046511\n",
      "Accuracy for (KNN) k= 3  :  67.44186046511628\n",
      "Accuracy for (KNN) k= 5  :  65.11627906976744\n",
      "Accuracy for (KNN) k= 7  :  62.7906976744186\n",
      "Accuracy for (KNN) k= 9  :  65.11627906976744\n",
      "--------------------------FOLD 4 --------------------------------------------\n",
      "[31, 0, 27, 0, 24, 0, 25, 0, 25]\n",
      "[11, 0, 15, 0, 18, 0, 17, 0, 17]\n",
      ".................................\n",
      "Accuracy for (KNN) k= 1  :  73.80952380952381\n",
      "Accuracy for (KNN) k= 3  :  64.28571428571429\n",
      "Accuracy for (KNN) k= 5  :  57.142857142857146\n",
      "Accuracy for (KNN) k= 7  :  59.523809523809526\n",
      "Accuracy for (KNN) k= 9  :  59.523809523809526\n"
     ]
    },
    {
     "data": {
      "image/png": "[encoded data removed]",
      "text/plain": [
       "<Figure size 432x288 with 1 Axes>"
      ]
     },
     "metadata": {
      "needs_background": "light"
     },
     "output_type": "display_data"
    }
   ],
   "source": [
    "print(\"WEIGHTED KNN\\n\")\n",
    "weighted_knn(x.copy())"
   ]
  },
  {
   "cell_type": "code",
   "execution_count": 35,
   "id": "4870376b-e8ec-4f3a-837b-4761c02c980d",
   "metadata": {},
   "outputs": [
    {
     "name": "stdout",
     "output_type": "stream",
     "text": [
      "WEIGHTED KNN WITH NORMALIZATION\n",
      "--------------------------FOLD 0 --------------------------------------------\n",
      "[31, 0, 30, 0, 30, 0, 28, 0, 27]\n",
      "[12, 0, 13, 0, 13, 0, 15, 0, 16]\n",
      ".................................\n",
      "Accuracy for (KNN) k= 1  :  72.09302325581395\n",
      "Accuracy for (KNN) k= 3  :  69.76744186046511\n",
      "Accuracy for (KNN) k= 5  :  69.76744186046511\n",
      "Accuracy for (KNN) k= 7  :  65.11627906976744\n",
      "Accuracy for (KNN) k= 9  :  62.7906976744186\n",
      "--------------------------FOLD 1 --------------------------------------------\n",
      "[33, 0, 34, 0, 35, 0, 33, 0, 36]\n",
      "[10, 0, 9, 0, 8, 0, 10, 0, 7]\n",
      ".................................\n",
      "Accuracy for (KNN) k= 1  :  76.74418604651163\n",
      "Accuracy for (KNN) k= 3  :  79.06976744186046\n",
      "Accuracy for (KNN) k= 5  :  81.3953488372093\n",
      "Accuracy for (KNN) k= 7  :  76.74418604651163\n",
      "Accuracy for (KNN) k= 9  :  83.72093023255815\n",
      "--------------------------FOLD 2 --------------------------------------------\n",
      "[32, 0, 30, 0, 30, 0, 30, 0, 28]\n",
      "[11, 0, 13, 0, 13, 0, 13, 0, 15]\n",
      ".................................\n",
      "Accuracy for (KNN) k= 1  :  74.4186046511628\n",
      "Accuracy for (KNN) k= 3  :  69.76744186046511\n",
      "Accuracy for (KNN) k= 5  :  69.76744186046511\n",
      "Accuracy for (KNN) k= 7  :  69.76744186046511\n",
      "Accuracy for (KNN) k= 9  :  65.11627906976744\n",
      "--------------------------FOLD 3 --------------------------------------------\n",
      "[30, 0, 29, 0, 28, 0, 29, 0, 32]\n",
      "[13, 0, 14, 0, 15, 0, 14, 0, 11]\n",
      ".................................\n",
      "Accuracy for (KNN) k= 1  :  69.76744186046511\n",
      "Accuracy for (KNN) k= 3  :  67.44186046511628\n",
      "Accuracy for (KNN) k= 5  :  65.11627906976744\n",
      "Accuracy for (KNN) k= 7  :  67.44186046511628\n",
      "Accuracy for (KNN) k= 9  :  74.4186046511628\n",
      "--------------------------FOLD 4 --------------------------------------------\n",
      "[28, 0, 27, 0, 28, 0, 27, 0, 28]\n",
      "[14, 0, 15, 0, 14, 0, 15, 0, 14]\n",
      ".................................\n",
      "Accuracy for (KNN) k= 1  :  66.66666666666667\n",
      "Accuracy for (KNN) k= 3  :  64.28571428571429\n",
      "Accuracy for (KNN) k= 5  :  66.66666666666667\n",
      "Accuracy for (KNN) k= 7  :  64.28571428571429\n",
      "Accuracy for (KNN) k= 9  :  66.66666666666667\n"
     ]
    },
    {
     "data": {
      "image/png": "[encoded data removed]",
      "text/plain": [
       "<Figure size 432x288 with 1 Axes>"
      ]
     },
     "metadata": {
      "needs_background": "light"
     },
     "output_type": "display_data"
    }
   ],
   "source": [
    "print(\"WEIGHTED KNN WITH NORMALIZATION\\n\")\n",
    "weighted_knn_with_normalization(x.copy())"
   ]
  },
  {
   "cell_type": "code",
   "execution_count": null,
   "id": "16d9439d-9fd5-469f-9345-0c672ffc007e",
   "metadata": {},
   "outputs": [],
   "source": [
    "\n",
    "\n",
    "\n",
    "\n",
    "\n",
    "\n",
    "\n"
   ]
  }
 ],
 "metadata": {
  "kernelspec": {
   "display_name": "Python 3",
   "language": "python",
   "name": "python3"
  },
  "language_info": {
   "codemirror_mode": {
    "name": "ipython",
    "version": 3
   },
   "file_extension": ".py",
   "mimetype": "text/x-python",
   "name": "python",
   "nbconvert_exporter": "python",
   "pygments_lexer": "ipython3",
   "version": "3.8.8"
  }
 },
 "nbformat": 4,
 "nbformat_minor": 5
}
