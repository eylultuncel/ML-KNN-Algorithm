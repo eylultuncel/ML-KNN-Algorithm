{
 "cells": [
  {
   "cell_type": "markdown",
   "id": "500441b0-73ad-4c77-94a4-b7837813652a",
   "metadata": {
    "tags": []
   },
   "source": [
    "# BBM409 Glass Classification"
   ]
  },
  {
   "cell_type": "markdown",
   "id": "51f93d50-93cb-4764-a88d-0abf888490e5",
   "metadata": {},
   "source": [
    "Here we can write"
   ]
  },
  {
   "cell_type": "markdown",
   "id": "9094e143-d6d6-49c7-8a04-09845f694064",
   "metadata": {},
   "source": [
    "## Introduction"
   ]
  },
  {
   "cell_type": "code",
   "execution_count": null,
   "id": "c2933048-8281-446f-89f9-e6b14ff61d5b",
   "metadata": {},
   "outputs": [],
   "source": [
    "import pandas as pd\n",
    "import numpy as np"
   ]
  },
  {
   "cell_type": "code",
   "execution_count": 14,
   "id": "a292ea85-76d3-40a6-ad32-581be53d359d",
   "metadata": {},
   "outputs": [
    {
     "name": "stdout",
     "output_type": "stream",
     "text": [
      "(214, 10)\n"
     ]
    }
   ],
   "source": [
    "df = pd.read_csv('~/Desktop/BBM406&409/First Assignment/glass.csv')\n",
    "x = np.array(df.iloc[:, :])\n",
    "print(x.shape)\n",
    "\n",
    "np.random.seed(101)\n",
    "np.random.shuffle(x)\n"
   ]
  },
  {
   "cell_type": "code",
   "execution_count": null,
   "id": "9e20fa6a-cac9-4c35-96ee-0fd654f373c6",
   "metadata": {},
   "outputs": [],
   "source": []
  },
  {
   "cell_type": "code",
   "execution_count": 15,
   "id": "f05466a2-e1b0-48e2-a965-2c797965e287",
   "metadata": {},
   "outputs": [],
   "source": [
    "def knn(x):\n",
    "    print(\"a\")\n",
    "    return"
   ]
  },
  {
   "cell_type": "code",
   "execution_count": 16,
   "id": "d9d545d6-c4ff-4291-9c1e-e4ad9d247a1a",
   "metadata": {},
   "outputs": [
    {
     "name": "stdout",
     "output_type": "stream",
     "text": [
      "KNN\n",
      "a\n"
     ]
    }
   ],
   "source": [
    "print(\"KNN\")\n",
    "knn(x.copy())"
   ]
  },
  {
   "cell_type": "code",
   "execution_count": null,
   "id": "b583984c-6a8b-4777-b103-4d22299fbf4f",
   "metadata": {},
   "outputs": [],
   "source": []
  },
  {
   "cell_type": "code",
   "execution_count": null,
   "id": "bb620aad-e2a5-4c0d-8f16-655fc4849bb2",
   "metadata": {},
   "outputs": [],
   "source": []
  }
 ],
 "metadata": {
  "kernelspec": {
   "display_name": "Python 3",
   "language": "python",
   "name": "python3"
  },
  "language_info": {
   "codemirror_mode": {
    "name": "ipython",
    "version": 3
   },
   "file_extension": ".py",
   "mimetype": "text/x-python",
   "name": "python",
   "nbconvert_exporter": "python",
   "pygments_lexer": "ipython3",
   "version": "3.8.8"
  }
 },
 "nbformat": 4,
 "nbformat_minor": 5
}
